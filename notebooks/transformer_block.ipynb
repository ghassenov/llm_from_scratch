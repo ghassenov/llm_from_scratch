{
 "cells": [
  {
   "cell_type": "code",
   "execution_count": 8,
   "id": "16ff4e6b",
   "metadata": {},
   "outputs": [],
   "source": [
    "import torch.nn as nn\n",
    "import torch"
   ]
  },
  {
   "cell_type": "code",
   "execution_count": 1,
   "id": "fa039c4c",
   "metadata": {},
   "outputs": [],
   "source": [
    "GPT_CONFIG_124M = {\n",
    " \"vocab_size\": 50257,      # Vocabulary size\n",
    " \"context_length\": 1024,   # Context length\n",
    " \"emb_dim\": 768,           # Embedding dimension\n",
    " \"n_heads\": 12,            # Number of attention heads\n",
    " \"n_layers\": 12,           # Number of layers\n",
    " \"drop_rate\": 0.1,         # Dropout rate\n",
    " \"qkv_bias\": False         # Query-Key-Value bias\n",
    "}"
   ]
  },
  {
   "cell_type": "code",
   "execution_count": 3,
   "id": "8cfe3691",
   "metadata": {},
   "outputs": [],
   "source": [
    "import sys\n",
    "sys.path.append('../')"
   ]
  },
  {
   "cell_type": "code",
   "execution_count": 10,
   "id": "463e1dbe",
   "metadata": {},
   "outputs": [],
   "source": [
    "from modular.AttentionMechanisms.MultiHeadAttention import MultiHeadAttention\n",
    "from modular.GPT_architecture.FeedForwardBlock import FeedForward\n",
    "from modular.GPT_architecture.LayerNormalization import LayerNorm"
   ]
  },
  {
   "cell_type": "markdown",
   "id": "e9366eac",
   "metadata": {},
   "source": [
    "Let's code the transformer block as follows:\n",
    "* shortcut connection for attention block\n",
    "* shortcut connection for feed forward block\n",
    "* adding the original input back"
   ]
  },
  {
   "cell_type": "code",
   "execution_count": 11,
   "id": "eeea65cf",
   "metadata": {},
   "outputs": [],
   "source": [
    "class TransformerBlock(nn.Module):\n",
    "    def __init__(self,cfg):\n",
    "        super().__init__()\n",
    "        self.att = MultiHeadAttention(\n",
    "            d_in = cfg['emb_dim'],\n",
    "            d_out = cfg['emb_dim'],\n",
    "            context_length=cfg['context_length'],\n",
    "            num_heads=cfg['n_heads'],\n",
    "            dropout=cfg['drop_rate'],\n",
    "            qkv_bias=cfg['qkv_bias']\n",
    "        )\n",
    "        self.ff = FeedForward(cfg)\n",
    "        self.norm1 = LayerNorm(cfg['emb_dim'])\n",
    "        self.norm2 = LayerNorm(cfg['emb_dim'])\n",
    "        self.drop_shortcut = nn.Dropout(cfg['drop_rate'])\n",
    "        \n",
    "    def forward(self,x):\n",
    "        # shortcut connection for attention block\n",
    "        shortcut = x\n",
    "        x = self.norm1(x)\n",
    "        x = self.att(x) #shape = [batch_size,num_tokens,emb_size]\n",
    "        x = self.drop_shortcut(x)\n",
    "        x = x + shortcut # add the original input back \n",
    "        \n",
    "        # shortcut connection for the feed forward block\n",
    "        shortcut = x\n",
    "        x = self.norm2(x)\n",
    "        x = self.ff(x)\n",
    "        x = self.drop_shortcut(x)\n",
    "        x = x + shortcut # add the original input back\n",
    "        \n",
    "        return x"
   ]
  },
  {
   "cell_type": "markdown",
   "id": "789c3360",
   "metadata": {},
   "source": [
    "We can test the transformer block"
   ]
  },
  {
   "cell_type": "code",
   "execution_count": 13,
   "id": "e4c2ba85",
   "metadata": {},
   "outputs": [
    {
     "name": "stdout",
     "output_type": "stream",
     "text": [
      "Input shape torch.Size([2, 4, 768])\n",
      "Output shape torch.Size([2, 4, 768])\n"
     ]
    }
   ],
   "source": [
    "torch.manual_seed(123)\n",
    "x = torch.rand(2,4,768)\n",
    "block = TransformerBlock(GPT_CONFIG_124M)\n",
    "output = block(x)\n",
    "print('Input shape',x.shape)\n",
    "print('Output shape',output.shape)"
   ]
  },
  {
   "cell_type": "markdown",
   "id": "4ea97c8b",
   "metadata": {},
   "source": [
    "* The transformer block maintains the input dimensions in its output, indicating that the transformer architecture processes sequences of data without altering their shape throughout the network."
   ]
  }
 ],
 "metadata": {
  "kernelspec": {
   "display_name": "llm_from_scratch-Nm31MAtF",
   "language": "python",
   "name": "python3"
  },
  "language_info": {
   "codemirror_mode": {
    "name": "ipython",
    "version": 3
   },
   "file_extension": ".py",
   "mimetype": "text/x-python",
   "name": "python",
   "nbconvert_exporter": "python",
   "pygments_lexer": "ipython3",
   "version": "3.10.0"
  }
 },
 "nbformat": 4,
 "nbformat_minor": 5
}
