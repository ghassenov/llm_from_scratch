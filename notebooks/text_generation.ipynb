{
 "cells": [
  {
   "cell_type": "code",
   "execution_count": 3,
   "id": "c9e6fe7a",
   "metadata": {},
   "outputs": [],
   "source": [
    "import torch"
   ]
  },
  {
   "cell_type": "markdown",
   "id": "3a1c42b1",
   "metadata": {},
   "source": [
    "Generating text from output tokens"
   ]
  },
  {
   "cell_type": "markdown",
   "id": "9965741f",
   "metadata": {},
   "source": [
    "Let's implement the token-generation process as follows:\n",
    "* step 1: idx is a (batch,n_tokens) array of indices in the current context\n",
    "* step 2: crop current context if it exceeds the supported context size (E.g., if the LLM supports only 5 tokens, and the context size is 10 then only the last 5 tokens are used as context)\n",
    "* step 3: Focus only on the last time step, so that (batch,n_token,vocab_size) becomes (batch,vocab_size)\n",
    "* step 4: probas has shape (batch,vocab_size)\n",
    "* step 5: idx_next has shape (batch,1)\n",
    "* step 6: append sampled index to the running sequence, where idx has shape (batch,n_tokens + 1)"
   ]
  },
  {
   "cell_type": "code",
   "execution_count": 4,
   "id": "e71e38a3",
   "metadata": {},
   "outputs": [],
   "source": [
    "def generate_text_simple(model,idx,max_new_tokens,context_size):\n",
    "    #idx is (batch,n_tokens) array of indices in the current context\n",
    "    for _ in range(max_new_tokens):\n",
    "        # crop current context if it exceeds the supported context size\n",
    "        idx_cond = idx[:,-context_size:]\n",
    "        # get the predictions\n",
    "        with torch.no_grad():\n",
    "            logits = model(idx_cond)\n",
    "        # focus only on the last time step\n",
    "        # (batch,n_tokens,vocab_size) becomes (batch,vocab_size)\n",
    "        logits = logits[:,-1,:]\n",
    "        # apply softmax to get probabilities\n",
    "        probas = torch.softmax(logits,dim=-1) # (batch,vocab_size)\n",
    "        # get the idx of the vocab entry with the highest probability value\n",
    "        idx_next = torch.argmax(probas,dim=-1,keepdim=True)\n",
    "        # append sampled index to the running sequence\n",
    "        idx = torch.cat((idx,idx_next),dim=1) #(vatch,n_tokens+1)\n",
    "    return idx"
   ]
  }
 ],
 "metadata": {
  "kernelspec": {
   "display_name": "llm_from_scratch-Nm31MAtF",
   "language": "python",
   "name": "python3"
  },
  "language_info": {
   "codemirror_mode": {
    "name": "ipython",
    "version": 3
   },
   "file_extension": ".py",
   "mimetype": "text/x-python",
   "name": "python",
   "nbconvert_exporter": "python",
   "pygments_lexer": "ipython3",
   "version": "3.10.0"
  }
 },
 "nbformat": 4,
 "nbformat_minor": 5
}
